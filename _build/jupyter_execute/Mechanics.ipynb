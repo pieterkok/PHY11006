{
 "cells": [
  {
   "cell_type": "markdown",
   "id": "c076aaea-6ebd-415d-8167-70b74e218cd1",
   "metadata": {},
   "source": [
    "$\\renewcommand{\\a}{\\mathbf{a}}$\n",
    "$\\renewcommand{\\b}{\\mathbf{b}}$\n",
    "$\\renewcommand{\\c}{\\mathbf{c}}$\n",
    "$\\newcommand{\\g}{\\mathbf{g}}$\n",
    "$\\newcommand{\\x}{\\mathbf{x}}$\n",
    "$\\newcommand{\\y}{\\mathbf{y}}$\n",
    "$\\newcommand{\\z}{\\mathbf{z}}$\n",
    "$\\renewcommand{\\r}{\\mathbf{r}}$\n",
    "$\\renewcommand{\\v}{\\mathbf{v}}$\n",
    "$\\renewcommand{\\u}{\\mathbf{u}}$\n",
    "$\\newcommand{\\kk}{\\mathbf{k}}$\n",
    "$\\newcommand{\\p}{\\mathbf{p}}$\n",
    "$\\newcommand{\\m}{\\mathbf{m}}$\n",
    "$\\renewcommand{\\d}{\\mathrm{d}}$\n",
    "$\\newcommand{\\e}{\\mathrm{e}}$\n",
    "$\\newcommand{\\A}{\\mathbf{A}}$\n",
    "$\\newcommand{\\B}{\\mathbf{B}}$\n",
    "$\\newcommand{\\D}{\\mathbf{D}}$\n",
    "$\\newcommand{\\E}{\\mathbf{E}}$\n",
    "$\\newcommand{\\J}{\\mathbf{J}}$\n",
    "$\\newcommand{\\F}{\\mathbf{F}}$\n",
    "$\\newcommand{\\M}{\\mathbf{M}}$\n",
    "$\\renewcommand{\\H}{\\mathbf{H}}$\n",
    "$\\renewcommand{\\P}{\\mathbf{P}}$\n",
    "$\\newcommand{\\R}{\\mathbf{R}}$\n",
    "$\\renewcommand{\\l}{\\mathbf{l}}$\n",
    "$\\renewcommand{\\S}{\\mathbf{S}}$\n",
    "$\\newcommand{\\V}{\\mathbf{V}}$\n",
    "$\\renewcommand{\\L}{\\mathbf{L}}$\n",
    "$\\newcommand{\\ms}{\\;\\text{m}\\;\\text{s}^{-1}}$\n",
    "$\\newcommand{\\mss}{\\;\\text{m}\\;\\text{s}^{-2}}$\n",
    "\n",
    "$\\DeclareMathOperator{\\sinc}{sinc}$\n",
    "\n",
    "$\\newcommand{\\kopje}[2]{\\vskip0.5em\\noindent\\textbf{\\textsf{{\\color{OliveDrab}{Week #1}:}~ #2}}}$\n",
    "$\\newcommand{\\homework}[1]{\\noindent{\\color{FireBrick}{\\textbf{\\textsf{Homework:}}} #1}}$\n",
    "$\\newcommand{\\tutorial}[1]{\\noindent{\\color{SteelBlue}{\\textbf{\\textsf{Tutorial:}}} #1}}$\n",
    "$\\newcommand{\\problems}[1]{\\noindent{\\color{LightSlateGrey}{\\textbf{\\textsf{Weekly problems:}}} #1}}$\n",
    "\n",
    "$\\newcommand{\\af}[1]{[A\\&F: #1]}$\n",
    "$\\newcommand{\\basis}[1]{\\hat{\\text{\\small{e}}}_{#1}}$\n",
    "\n"
   ]
  },
  {
   "cell_type": "markdown",
   "id": "c2033bf6-b680-43c1-b102-f17e48ad3672",
   "metadata": {},
   "source": [
    "# PHY11006 Mechanics\n",
    "\n",
    "## Mathematical Model Building\n",
    "\n",
    "A key learning outcome of this module is knowing how to approach mathematical model building in physics, which is the translation of a real-world problem—almost always idealised—into mathematical form. This mathematical model then becomes the basis for a quantitative analysis, either by substituting numbers given in the problem or by implementing the model on a computer. \n",
    "\n",
    "Along with experimentation proficiency, mathematical model building is the core skill of a physicist, and arguably the most difficult to master. It requires familiarity with a good amount of advanced mathematics, knowledge of the general physical principles and laws, and a good deal of creativity. Luckily, there is a method to help you along: \n",
    "\n",
    "1. **Imagine the problem**. Make a sketch—this can be quite abstract. It is supposed to help you organise your thoughts about the problem. Give mathematical symbols to the quantities that you think are relevant to the problem. This establishes the *notation* for this problem in which every quantity is represented by a *unique* symbol.\n",
    "2. Identify the **physical principles and laws** that are relevant to the problem. Write down any formulas or equations that apply. Make sure to match your notation to the question. This likely means you will have to change the notation of familiar formulas. This is not only perfectly acceptable, it is *expected*.\n",
    "3. Identify what the problem is asking for; what **physical quantity** do you need to find a formula for? Write down the relevant formulas or equations that involve this quantity, again matching the notation to the question. If you need new quantities, give them a new unique symbol; *do not reuse symbols!* \n",
    "4. Are there any **approximations** that you can make? Most physical problems are too complicated to solve exactly, and we will need to make approximations. They are often stated in the question, such as point masses or frictionless motion, but other approximations may be made along the way.\n",
    "5. **Relate the desired quantities from part 3 to the physical laws and principles of part 2**. Try to look ahead where your maths will lead you to judge whether this is the right path.  Work through the maths (substitutions, derivatives, integrations) to get the mathematical expression you are after. *Resist the urge to substitute numbers*, unless they lead to significant simplifications of your mathematical expressions.\n",
    "6.  **Test your final answer** for extremal values to make sure that your answer behaves in the expected ways. If it doesn't, use it to go back to step 1-5 and re-evaluate your thought processes. Most students completely skip this step, but testing your final answer will deepen your understanding of the problem and help hunt down errors in your analysis earlier. \n",
    "\n",
    "As with everything, the more you practice this, the better you will get at it. Many of the questions in the weekly problem sets and the tutorial and homework questions are structured such that following the above approach will lead to the right answer. This approach works not only for the mechanics part of this course, but for all problems that require some mathematical modelling throughout your degree.\n",
    "\n",
    "\n",
    "#### A note on the delivery of this part of the module\n",
    "\n",
    "You are required to attend the lectures and tutorials (we keep attendance records). Lectures are also recorded, but I recommend not rewatching them. These lecture notes should be sufficient for the background preparation, although good textbooks, like [Kleppner and Kolenkow](https://www.amazon.co.uk/Introduction-Mechanics-Kleppner-Kolenkow-November/dp/B00QAUC06G/ref=sr_1_1?crid=1MBGQAHOYO8TL&dib=eyJ2IjoiMSJ9.53hYfX_xWyI7KJJHW5jFWj4508inGRJ3RGDet-J5dBHGjHj071QN20LucGBJIEps.ZmKOw6X2tFpqjzE-3s63cwSL4Hqe_IAxJmExyk5uVaA&dib_tag=se&keywords=Kleppner+and+Kolenkow&qid=1720283032&sprefix=kleppner+and+kolenkow%2Caps%2C81&sr=8-1}), can be a valuable addition. \n",
    "\n",
    "*Most of your efforts should go into the weekly problem sets*, which range from fairly straightforward to quite challenging. Full solutions will be provided the week after the problems are released. To get the most out of these problems, you should seriously try them when they are released, and revisit them again after the solutions are released. When you see the problems without solutions, it forces you to think about them deeply. This prepares you for the solutions, resulting in a much more profound learning experience. To help motivate you, the content of the problem sets are part of the examinable material.\n"
   ]
  }
 ],
 "metadata": {
  "kernelspec": {
   "display_name": "Python 3 (ipykernel)",
   "language": "python",
   "name": "python3"
  },
  "language_info": {
   "codemirror_mode": {
    "name": "ipython",
    "version": 3
   },
   "file_extension": ".py",
   "mimetype": "text/x-python",
   "name": "python",
   "nbconvert_exporter": "python",
   "pygments_lexer": "ipython3",
   "version": "3.12.2"
  }
 },
 "nbformat": 4,
 "nbformat_minor": 5
}