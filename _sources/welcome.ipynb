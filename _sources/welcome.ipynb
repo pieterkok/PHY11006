{
 "cells": [
  {
   "cell_type": "markdown",
   "id": "c076aaea-6ebd-415d-8167-70b74e218cd1",
   "metadata": {},
   "source": [
    "# Welcome\n",
    "Hello"
   ]
  },
  {
   "cell_type": "markdown",
   "id": "8dfbf140-61ae-4c85-a3e0-93112c09dde5",
   "metadata": {},
   "source": []
  },
  {
   "cell_type": "code",
   "execution_count": null,
   "id": "f447cf1d-962b-4e91-ba6a-6b727708d969",
   "metadata": {},
   "outputs": [],
   "source": []
  }
 ],
 "metadata": {
  "kernelspec": {
   "display_name": "Python 3 (ipykernel)",
   "language": "python",
   "name": "python3"
  },
  "language_info": {
   "codemirror_mode": {
    "name": "ipython",
    "version": 3
   },
   "file_extension": ".py",
   "mimetype": "text/x-python",
   "name": "python",
   "nbconvert_exporter": "python",
   "pygments_lexer": "ipython3",
   "version": "3.12.2"
  }
 },
 "nbformat": 4,
 "nbformat_minor": 5
}
